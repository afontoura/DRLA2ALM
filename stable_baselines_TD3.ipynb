{
  "nbformat": 4,
  "nbformat_minor": 0,
  "metadata": {
    "colab": {
      "name": "stable-baselines-TD3",
      "provenance": [],
      "toc_visible": true,
      "authorship_tag": "ABX9TyOsrIueMe+5MXEg8QaLRs+c",
      "include_colab_link": true
    },
    "kernelspec": {
      "name": "python3",
      "display_name": "Python 3"
    },
    "accelerator": "GPU"
  },
  "cells": [
    {
      "cell_type": "markdown",
      "metadata": {
        "id": "view-in-github",
        "colab_type": "text"
      },
      "source": [
        "<a href=\"https://colab.research.google.com/github/afontoura/DRLA2ALM/blob/master/stable_baselines_TD3.ipynb\" target=\"_parent\"><img src=\"https://colab.research.google.com/assets/colab-badge.svg\" alt=\"Open In Colab\"/></a>"
      ]
    },
    {
      "cell_type": "code",
      "metadata": {
        "id": "Ly3SrNR2XBoG",
        "colab_type": "code",
        "colab": {}
      },
      "source": [
        "!pip install stable_baselines==2.9.0\n",
        "!git clone https://github.com/afontoura/DRLA2ALM\n",
        "%cd DRLA2ALM\n",
        "!pip install -e ."
      ],
      "execution_count": 0,
      "outputs": []
    },
    {
      "cell_type": "code",
      "metadata": {
        "id": "PxOFq9Z-XNEK",
        "colab_type": "code",
        "colab": {}
      },
      "source": [
        "import gym\n",
        "import envs\n",
        "import numpy as np\n",
        "\n",
        "from stable_baselines import TD3\n",
        "from stable_baselines.td3.policies import MlpPolicy\n",
        "from stable_baselines.common.vec_env import DummyVecEnv\n",
        "from stable_baselines.ddpg.noise import NormalActionNoise, OrnsteinUhlenbeckActionNoise\n",
        "\n",
        "time_horizon = 80\n",
        "discount_rate = .08\n",
        "current_seed = 10\n",
        "\n",
        "env = gym.make('ALM-v0', T = time_horizon, rate = discount_rate)"
      ],
      "execution_count": 0,
      "outputs": []
    },
    {
      "cell_type": "code",
      "metadata": {
        "id": "PG_EMYsyMNy7",
        "colab_type": "code",
        "colab": {}
      },
      "source": [
        "# The noise objects for TD3\n",
        "n_actions = env.action_space.shape[-1]\n",
        "action_noise = NormalActionNoise(mean=np.zeros(n_actions), sigma=0.1 * np.ones(n_actions))\n",
        "\n",
        "model = TD3(MlpPolicy, env, action_noise=action_noise, verbose=1, seed = current_seed)\n",
        "model.learn(total_timesteps=500000, log_interval=100)"
      ],
      "execution_count": 0,
      "outputs": []
    },
    {
      "cell_type": "code",
      "metadata": {
        "id": "Q810K4J5PpNg",
        "colab_type": "code",
        "colab": {}
      },
      "source": [
        "resultados = []\n",
        "for i in np.arange(1000):\n",
        "  dones = False\n",
        "  G = []\n",
        "  obs = env.reset()\n",
        "  while not dones:\n",
        "    action, _states = model.predict(obs)\n",
        "    obs, rewards, dones, info = env.step(action)\n",
        "    G.append(rewards)\n",
        "  resultados.append(np.array(G).sum())\n",
        "  #print(str(i) + ': ' + str(np.array(G).sum()))"
      ],
      "execution_count": 0,
      "outputs": []
    },
    {
      "cell_type": "code",
      "metadata": {
        "id": "NyHNRUE4S55i",
        "colab_type": "code",
        "outputId": "399f2944-fd00-459a-e119-e70c06908d91",
        "colab": {
          "base_uri": "https://localhost:8080/",
          "height": 54
        }
      },
      "source": [
        "print((np.array(resultados) == 80).sum())\n",
        "print(np.array(resultados).mean())"
      ],
      "execution_count": 0,
      "outputs": [
        {
          "output_type": "stream",
          "text": [
            "603\n",
            "55.746\n"
          ],
          "name": "stdout"
        }
      ]
    },
    {
      "cell_type": "code",
      "metadata": {
        "id": "8RNnndxKHuSZ",
        "colab_type": "code",
        "colab": {}
      },
      "source": [
        "model.save('td3_t' + str(time_horizon) + '_dr' + str(round(discount_rate * 1000)) + '_seed' + str(current_seed))"
      ],
      "execution_count": 0,
      "outputs": []
    }
  ]
}