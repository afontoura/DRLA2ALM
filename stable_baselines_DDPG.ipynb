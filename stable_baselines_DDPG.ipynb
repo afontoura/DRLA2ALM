{
  "nbformat": 4,
  "nbformat_minor": 0,
  "metadata": {
    "colab": {
      "name": "stable-baselines-DDPG",
      "provenance": [],
      "authorship_tag": "ABX9TyPcA7q1ZUNJMA5aDq/WU3ji",
      "include_colab_link": true
    },
    "kernelspec": {
      "name": "python3",
      "display_name": "Python 3"
    },
    "accelerator": "TPU"
  },
  "cells": [
    {
      "cell_type": "markdown",
      "metadata": {
        "id": "view-in-github",
        "colab_type": "text"
      },
      "source": [
        "<a href=\"https://colab.research.google.com/github/afontoura/DRLA2ALM/blob/master/stable_baselines_DDPG.ipynb\" target=\"_parent\"><img src=\"https://colab.research.google.com/assets/colab-badge.svg\" alt=\"Open In Colab\"/></a>"
      ]
    },
    {
      "cell_type": "code",
      "metadata": {
        "id": "Skp68SdIjB9c",
        "colab_type": "code",
        "colab": {}
      },
      "source": [
        "!pip install stable_baselines==2.9.0\n",
        "!git clone https://github.com/afontoura/DRLA2ALM\n",
        "%cd DRLA2ALM\n",
        "!pip install -e ."
      ],
      "execution_count": 0,
      "outputs": []
    },
    {
      "cell_type": "code",
      "metadata": {
        "id": "-hVXXUwjjJNR",
        "colab_type": "code",
        "colab": {}
      },
      "source": [
        "import gym\n",
        "import envs\n",
        "import numpy as np\n",
        "\n",
        "from stable_baselines.ddpg.policies import MlpPolicy\n",
        "from stable_baselines.common.noise import NormalActionNoise, OrnsteinUhlenbeckActionNoise, AdaptiveParamNoiseSpec\n",
        "from stable_baselines import DDPG\n",
        "\n",
        "time_horizon = 80\n",
        "discount_rate = .08\n",
        "current_seed = 10\n",
        "\n",
        "env = gym.make('ALM-v0', T = time_horizon, rate = discount_rate)"
      ],
      "execution_count": 0,
      "outputs": []
    },
    {
      "cell_type": "code",
      "metadata": {
        "id": "NYqz4_KbjUbq",
        "colab_type": "code",
        "colab": {}
      },
      "source": [
        "# the noise objects for DDPG\n",
        "n_actions = env.action_space.shape[-1]\n",
        "param_noise = None\n",
        "action_noise = OrnsteinUhlenbeckActionNoise(mean=np.zeros(n_actions), sigma=float(0.5) * np.ones(n_actions))\n",
        "\n",
        "model = DDPG(MlpPolicy, env, verbose=1, param_noise=param_noise, action_noise=action_noise, seed = current_seed)\n",
        "model.learn(total_timesteps=500000)"
      ],
      "execution_count": 0,
      "outputs": []
    },
    {
      "cell_type": "code",
      "metadata": {
        "id": "Z6Vp5DVLjhh5",
        "colab_type": "code",
        "colab": {}
      },
      "source": [
        "resultados = []\n",
        "for i in np.arange(1000):\n",
        "  dones = False\n",
        "  G = []\n",
        "  obs = env.reset()\n",
        "  while not dones:\n",
        "    action, _states = model.predict(obs)\n",
        "    obs, rewards, dones, info = env.step(action)\n",
        "    G.append(rewards)\n",
        "  resultados.append(np.array(G).sum())\n",
        "  #print(str(i) + ': ' + str(np.array(G).sum()))"
      ],
      "execution_count": 0,
      "outputs": []
    },
    {
      "cell_type": "code",
      "metadata": {
        "id": "f46rNarUjidR",
        "colab_type": "code",
        "colab": {}
      },
      "source": [
        "print((np.array(resultados) == time_horizon).sum())\n",
        "print(np.array(resultados).mean())"
      ],
      "execution_count": 0,
      "outputs": []
    },
    {
      "cell_type": "code",
      "metadata": {
        "id": "NR16pqm8FZQk",
        "colab_type": "code",
        "colab": {}
      },
      "source": [
        "model.save('ddpg_t' + str(time_horizon) + '_dr' + str(round(discount_rate * 1000)) + '_seed' + str(current_seed))"
      ],
      "execution_count": 0,
      "outputs": []
    }
  ]
}